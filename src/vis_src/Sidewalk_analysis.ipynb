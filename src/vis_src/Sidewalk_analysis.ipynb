{
 "cells": [
  {
   "cell_type": "code",
   "execution_count": 1,
   "id": "85ef6cdf",
   "metadata": {},
   "outputs": [],
   "source": [
    "# This file will generate insightful plots and data related to sidewalk cafe application data\n",
    "!pip -q install pyspark\n",
    "!pip -q install altair\n",
    "!pip -q install pandas\n",
    "\n",
    "from __future__ import print_function\n",
    "import sys\n",
    "from pyspark import SparkContext\n",
    "from pyspark.sql import SparkSession\n",
    "from pyspark.sql.functions import weekofyear\n",
    "from pyspark.sql import functions as f\n",
    "from pyspark.sql.functions import concat_ws\n",
    "from pyspark.sql.types import StringType\n",
    "import altair as alt\n",
    "import pandas as pd\n",
    "\n",
    "spark = SparkSession.builder.appName(\"Agg_Hotness-Max\").getOrCreate()"
   ]
  },
  {
   "cell_type": "code",
   "execution_count": 2,
   "id": "c8c0eff2",
   "metadata": {},
   "outputs": [
    {
     "name": "stdout",
     "output_type": "stream",
     "text": [
      "+-----------+---------------+----------+--------------+---------+\n",
      "|LICENSE_NBR|APP_STATUS_DATE| INTAKE_DD|      ISSUANCE|SWC_SQ_FT|\n",
      "+-----------+---------------+----------+--------------+---------+\n",
      "|2090193-DCA|     01/07/2020|06/06/2019|        Issued|      335|\n",
      "|1385278-DCA|     12/23/2019|12/20/2019|Pending Review|       52|\n",
      "|1206030-DCA|     03/05/2020|12/11/2019|Pending Review|      285|\n",
      "|2023941-DCA|     02/27/2019|02/25/2019|        Issued|      148|\n",
      "|2021840-DCA|     06/21/2019|02/12/2019|        Issued|      294|\n",
      "|2082893-DCA|     05/28/2019|12/27/2018|        Issued|      111|\n",
      "|2026141-DCA|     04/09/2019|04/09/2019|        Issued|       66|\n",
      "|1282959-DCA|     06/26/2019|09/04/2018|        Issued|      143|\n",
      "|1145512-DCA|     01/13/2020|12/18/2019|Pending Review|      405|\n",
      "|1420350-DCA|     01/09/2020|12/26/2018|        Issued|      326|\n",
      "|2034028-DCA|     05/02/2019|12/31/2018|        Issued|      446|\n",
      "|0959237-DCA|     12/30/2019|04/16/2019|Pending Review|      289|\n",
      "|1252802-DCA|     02/10/2020|02/10/2020|Pending Review|      137|\n",
      "|2055681-DCA|     06/29/2019|04/05/2019|        Issued|      106|\n",
      "|2006950-DCA|     11/26/2018|11/19/2018|        Issued|      143|\n",
      "|1314137-DCA|     09/10/2019|04/01/2019|        Issued|      421|\n",
      "|2083477-DCA|     06/24/2019|01/28/2019|        Issued|      126|\n",
      "|1356304-DCA|     03/20/2019|12/05/2018|        Issued|      155|\n",
      "|2004733-DCA|     09/13/2018|09/13/2018|        Issued|      201|\n",
      "|2075843-DCA|     10/04/2018|04/13/2018|        Issued|      306|\n",
      "+-----------+---------------+----------+--------------+---------+\n",
      "only showing top 20 rows\n",
      "\n"
     ]
    }
   ],
   "source": [
    "cafe = spark.read.format('csv').options(header='true', inferschema='true').load(\"New_Sidewalk_Cafe_Applications.csv\")\n",
    "cafe = cafe.select(\"LICENSE_NBR\",\"APP_STATUS_DATE\",\"INTAKE_DD\",\"ISSUANCE\",\"SWC_SQ_FT\")\n",
    "cafe.show()"
   ]
  },
  {
   "cell_type": "code",
   "execution_count": 3,
   "id": "2e06ed0b",
   "metadata": {},
   "outputs": [
    {
     "name": "stdout",
     "output_type": "stream",
     "text": [
      "+-----------+---------------+----------+--------------+---------+-----------+----------+------------+\n",
      "|LICENSE_NBR|APP_STATUS_DATE| INTAKE_DD|      ISSUANCE|SWC_SQ_FT|intake_year|intake_day|intake_month|\n",
      "+-----------+---------------+----------+--------------+---------+-----------+----------+------------+\n",
      "|0949696-DCA|     06/19/2020|06/19/2020|Pending Review|      414|       2020|        19|          06|\n",
      "|1305734-DCA|     06/18/2020|06/18/2020|Pending Review|      412|       2020|        18|          06|\n",
      "|1026947-DCA|     06/18/2020|06/18/2020|Pending Review|      294|       2020|        18|          06|\n",
      "|1347915-DCA|     06/16/2020|06/16/2020|Pending Review|      438|       2020|        16|          06|\n",
      "|1190138-DCA|     06/12/2020|06/12/2020|        Issued|      336|       2020|        12|          06|\n",
      "|1139335-DCA|     06/09/2020|06/09/2020|Pending Review|      575|       2020|        09|          06|\n",
      "|2079555-DCA|     06/17/2020|05/13/2020|Pending Review|      381|       2020|        13|          05|\n",
      "|2009341-DCA|     05/28/2020|04/06/2020|Pending Review|      188|       2020|        06|          04|\n",
      "|2070811-DCA|     06/10/2020|04/03/2020|Pending Review|      214|       2020|        03|          04|\n",
      "|1437537-DCA|     06/09/2020|04/03/2020|Pending Review|      378|       2020|        03|          04|\n",
      "|0920717-DCA|     06/15/2020|03/12/2020|        Issued|      371|       2020|        12|          03|\n",
      "|0293907-DCA|     03/12/2020|03/12/2020|Pending Review|      611|       2020|        12|          03|\n",
      "|2033617-DCA|     04/29/2020|03/11/2020|        Issued|       90|       2020|        11|          03|\n",
      "|0883095-DCA|     03/11/2020|03/11/2020|        Issued|      302|       2020|        11|          03|\n",
      "|2095272-DCA|     03/11/2020|03/11/2020|Pending Review|      142|       2020|        11|          03|\n",
      "|1422807-DCA|     05/28/2020|03/10/2020|Pending Review|      604|       2020|        10|          03|\n",
      "|2004071-DCA|     03/11/2020|03/10/2020|Pending Review|      245|       2020|        10|          03|\n",
      "|2075845-DCA|     03/05/2020|03/04/2020|Pending Review|      110|       2020|        04|          03|\n",
      "|2065860-DCA|     03/05/2020|03/04/2020|Pending Review|      620|       2020|        04|          03|\n",
      "|2095010-DCA|     03/03/2020|03/03/2020|Pending Review|      183|       2020|        03|          03|\n",
      "+-----------+---------------+----------+--------------+---------+-----------+----------+------------+\n",
      "only showing top 20 rows\n",
      "\n"
     ]
    }
   ],
   "source": [
    "cafe = cafe.withColumn(\"intake_year\", f.substring(\"INTAKE_DD\", 7, 4)).withColumn(\"intake_day\", f.substring(\"INTAKE_DD\", 4,2)).withColumn(\"intake_month\", f.substring(\"INTAKE_DD\",1,2))\n",
    "cafe = cafe.where((cafe[\"intake_year\"] == '2019') | (cafe[\"intake_year\"] == '2020')).orderBy(cafe[\"intake_year\"].desc(),cafe[\"intake_month\"].desc(),cafe[\"intake_day\"].desc())\n",
    "cafe.show()"
   ]
  },
  {
   "cell_type": "markdown",
   "id": "e5f58bf3",
   "metadata": {},
   "source": [
    "The latest application data we have for 2020 is 06/19/2020, but for 2019 we have the entire year."
   ]
  },
  {
   "cell_type": "code",
   "execution_count": 4,
   "id": "a3e55e60",
   "metadata": {},
   "outputs": [
    {
     "name": "stdout",
     "output_type": "stream",
     "text": [
      "The number of applications in 2019 was: 583\n",
      "The number of applications in 2020 was: 114\n"
     ]
    }
   ],
   "source": [
    "num_2019_apps = cafe.where((cafe[\"intake_year\"] == '2019')).count()\n",
    "num_2020_apps = cafe.where((cafe[\"intake_year\"] == '2020')).count()\n",
    "print(\"The number of applications in 2019 was: %d\" % num_2019_apps)\n",
    "print(\"The number of applications in 2020 was: %d\" % num_2020_apps)"
   ]
  },
  {
   "cell_type": "code",
   "execution_count": 5,
   "id": "cd316647",
   "metadata": {},
   "outputs": [
    {
     "name": "stdout",
     "output_type": "stream",
     "text": [
      "+------------+-----+\n",
      "|intake_month|count|\n",
      "+------------+-----+\n",
      "|          01|   43|\n",
      "|          02|   41|\n",
      "|          03|   65|\n",
      "|          04|  110|\n",
      "|          05|   60|\n",
      "|          06|   15|\n",
      "|          07|   16|\n",
      "|          08|   39|\n",
      "|          09|   80|\n",
      "|          10|   21|\n",
      "|          11|   31|\n",
      "|          12|   62|\n",
      "+------------+-----+\n",
      "\n",
      "+------------+-----+\n",
      "|intake_month|count|\n",
      "+------------+-----+\n",
      "|          01|   33|\n",
      "|          02|   58|\n",
      "|          03|   13|\n",
      "|          04|    3|\n",
      "|          05|    1|\n",
      "|          06|    6|\n",
      "+------------+-----+\n",
      "\n"
     ]
    }
   ],
   "source": [
    "num_2019_apps_per_month = cafe.where((cafe[\"intake_year\"] == '2019')).groupBy(\"intake_month\").count().orderBy(\"intake_month\")\n",
    "num_2020_apps_per_month = cafe.where((cafe[\"intake_year\"] == '2020')).groupBy(\"intake_month\").count().orderBy(\"intake_month\")\n",
    "num_2019_apps_per_month.show()\n",
    "num_2020_apps_per_month.show()"
   ]
  },
  {
   "cell_type": "markdown",
   "id": "e0712e77",
   "metadata": {},
   "source": [
    "The number of applications during the beginning of the pandemic plummeted, and we dont have data that goes further. "
   ]
  },
  {
   "cell_type": "code",
   "execution_count": 6,
   "id": "3e3a7cc4",
   "metadata": {},
   "outputs": [
    {
     "name": "stdout",
     "output_type": "stream",
     "text": [
      "+------------+------------------+\n",
      "|intake_month|    avg(SWC_SQ_FT)|\n",
      "+------------+------------------+\n",
      "|          01| 284.6046511627907|\n",
      "|          02|             277.0|\n",
      "|          03|             242.6|\n",
      "|          04|254.29090909090908|\n",
      "|          05|271.51666666666665|\n",
      "|          06|321.73333333333335|\n",
      "|          07|          319.9375|\n",
      "|          08| 289.7435897435897|\n",
      "|          09|          247.8625|\n",
      "|          10| 319.9047619047619|\n",
      "|          11|262.48387096774195|\n",
      "|          12| 248.2258064516129|\n",
      "+------------+------------------+\n",
      "\n",
      "+------------+------------------+\n",
      "|intake_month|    avg(SWC_SQ_FT)|\n",
      "+------------+------------------+\n",
      "|          01| 249.3030303030303|\n",
      "|          02|229.06896551724137|\n",
      "|          03| 340.0769230769231|\n",
      "|          04|             260.0|\n",
      "|          05|             381.0|\n",
      "|          06|             411.5|\n",
      "+------------+------------------+\n",
      "\n"
     ]
    }
   ],
   "source": [
    "sqft_2019_apps_per_month = cafe.where((cafe[\"intake_year\"] == '2019')).groupBy(\"intake_month\").mean(\"SWC_SQ_FT\").orderBy(\"intake_month\")\n",
    "sqft_2020_apps_per_month = cafe.where((cafe[\"intake_year\"] == '2020')).groupBy(\"intake_month\").mean(\"SWC_SQ_FT\").orderBy(\"intake_month\")\n",
    "pd_sqft_2019_apps_per_month = sqft_2019_apps_per_month.toPandas()\n",
    "pd_sqft_2020_apps_per_month = sqft_2020_apps_per_month.toPandas()\n",
    "sqft_2019_apps_per_month.show()\n",
    "sqft_2020_apps_per_month.show()"
   ]
  },
  {
   "cell_type": "code",
   "execution_count": null,
   "id": "87c61004",
   "metadata": {},
   "outputs": [],
   "source": []
  },
  {
   "cell_type": "code",
   "execution_count": 7,
   "id": "9e9a6af6",
   "metadata": {
    "scrolled": true
   },
   "outputs": [
    {
     "data": {
      "text/html": [
       "\n",
       "<div id=\"altair-viz-9b980ef50b0a4e82881954e726caf914\"></div>\n",
       "<script type=\"text/javascript\">\n",
       "  (function(spec, embedOpt){\n",
       "    let outputDiv = document.currentScript.previousElementSibling;\n",
       "    if (outputDiv.id !== \"altair-viz-9b980ef50b0a4e82881954e726caf914\") {\n",
       "      outputDiv = document.getElementById(\"altair-viz-9b980ef50b0a4e82881954e726caf914\");\n",
       "    }\n",
       "    const paths = {\n",
       "      \"vega\": \"https://cdn.jsdelivr.net/npm//vega@5?noext\",\n",
       "      \"vega-lib\": \"https://cdn.jsdelivr.net/npm//vega-lib?noext\",\n",
       "      \"vega-lite\": \"https://cdn.jsdelivr.net/npm//vega-lite@4.8.1?noext\",\n",
       "      \"vega-embed\": \"https://cdn.jsdelivr.net/npm//vega-embed@6?noext\",\n",
       "    };\n",
       "\n",
       "    function loadScript(lib) {\n",
       "      return new Promise(function(resolve, reject) {\n",
       "        var s = document.createElement('script');\n",
       "        s.src = paths[lib];\n",
       "        s.async = true;\n",
       "        s.onload = () => resolve(paths[lib]);\n",
       "        s.onerror = () => reject(`Error loading script: ${paths[lib]}`);\n",
       "        document.getElementsByTagName(\"head\")[0].appendChild(s);\n",
       "      });\n",
       "    }\n",
       "\n",
       "    function showError(err) {\n",
       "      outputDiv.innerHTML = `<div class=\"error\" style=\"color:red;\">${err}</div>`;\n",
       "      throw err;\n",
       "    }\n",
       "\n",
       "    function displayChart(vegaEmbed) {\n",
       "      vegaEmbed(outputDiv, spec, embedOpt)\n",
       "        .catch(err => showError(`Javascript Error: ${err.message}<br>This usually means there's a typo in your chart specification. See the javascript console for the full traceback.`));\n",
       "    }\n",
       "\n",
       "    if(typeof define === \"function\" && define.amd) {\n",
       "      requirejs.config({paths});\n",
       "      require([\"vega-embed\"], displayChart, err => showError(`Error loading script: ${err.message}`));\n",
       "    } else if (typeof vegaEmbed === \"function\") {\n",
       "      displayChart(vegaEmbed);\n",
       "    } else {\n",
       "      loadScript(\"vega\")\n",
       "        .then(() => loadScript(\"vega-lite\"))\n",
       "        .then(() => loadScript(\"vega-embed\"))\n",
       "        .catch(showError)\n",
       "        .then(() => displayChart(vegaEmbed));\n",
       "    }\n",
       "  })({\"config\": {\"view\": {\"continuousWidth\": 400, \"continuousHeight\": 300}}, \"hconcat\": [{\"data\": {\"name\": \"data-35ceca9c8743af1b47b0b2a3f6afc493\"}, \"mark\": \"line\", \"encoding\": {\"x\": {\"type\": \"nominal\", \"field\": \"intake_month\"}, \"y\": {\"type\": \"quantitative\", \"field\": \"avg(SWC_SQ_FT)\", \"scale\": {\"domain\": [0, 450]}}}, \"title\": \"Average Square Footage of Cafe Applications per Month in 2019\"}, {\"data\": {\"name\": \"data-25d967486db0451e3e2180d7f2295903\"}, \"mark\": \"line\", \"encoding\": {\"x\": {\"type\": \"nominal\", \"field\": \"intake_month\"}, \"y\": {\"type\": \"quantitative\", \"field\": \"avg(SWC_SQ_FT)\"}}, \"title\": \"Average Square Footage of Cafe Applications per Month in 2020\"}], \"$schema\": \"https://vega.github.io/schema/vega-lite/v4.8.1.json\", \"datasets\": {\"data-35ceca9c8743af1b47b0b2a3f6afc493\": [{\"intake_month\": \"01\", \"avg(SWC_SQ_FT)\": 284.6046511627907}, {\"intake_month\": \"02\", \"avg(SWC_SQ_FT)\": 277.0}, {\"intake_month\": \"03\", \"avg(SWC_SQ_FT)\": 242.6}, {\"intake_month\": \"04\", \"avg(SWC_SQ_FT)\": 254.29090909090908}, {\"intake_month\": \"05\", \"avg(SWC_SQ_FT)\": 271.51666666666665}, {\"intake_month\": \"06\", \"avg(SWC_SQ_FT)\": 321.73333333333335}, {\"intake_month\": \"07\", \"avg(SWC_SQ_FT)\": 319.9375}, {\"intake_month\": \"08\", \"avg(SWC_SQ_FT)\": 289.7435897435897}, {\"intake_month\": \"09\", \"avg(SWC_SQ_FT)\": 247.8625}, {\"intake_month\": \"10\", \"avg(SWC_SQ_FT)\": 319.9047619047619}, {\"intake_month\": \"11\", \"avg(SWC_SQ_FT)\": 262.48387096774195}, {\"intake_month\": \"12\", \"avg(SWC_SQ_FT)\": 248.2258064516129}], \"data-25d967486db0451e3e2180d7f2295903\": [{\"intake_month\": \"01\", \"avg(SWC_SQ_FT)\": 249.3030303030303}, {\"intake_month\": \"02\", \"avg(SWC_SQ_FT)\": 229.06896551724137}, {\"intake_month\": \"03\", \"avg(SWC_SQ_FT)\": 340.0769230769231}, {\"intake_month\": \"04\", \"avg(SWC_SQ_FT)\": 260.0}, {\"intake_month\": \"05\", \"avg(SWC_SQ_FT)\": 381.0}, {\"intake_month\": \"06\", \"avg(SWC_SQ_FT)\": 411.5}]}}, {\"mode\": \"vega-lite\"});\n",
       "</script>"
      ],
      "text/plain": [
       "alt.HConcatChart(...)"
      ]
     },
     "execution_count": 7,
     "metadata": {},
     "output_type": "execute_result"
    }
   ],
   "source": [
    "sqft_2019 = alt.Chart(pd_sqft_2019_apps_per_month).mark_line().encode(\n",
    "    alt.X('intake_month'),\n",
    "    alt.Y('avg(SWC_SQ_FT)',scale=alt.Scale(domain=(0, 450))),\n",
    ").properties(title='Average Square Footage of Cafe Applications per Month in 2019')\n",
    "\n",
    "sqft_2020 = alt.Chart(pd_sqft_2020_apps_per_month).mark_line().encode(\n",
    "    alt.X('intake_month'),\n",
    "    alt.Y('avg(SWC_SQ_FT)'),\n",
    ").properties(title='Average Square Footage of Cafe Applications per Month in 2020')\n",
    "\n",
    "alt.hconcat(\n",
    "   sqft_2019,\n",
    "   sqft_2020,\n",
    ")"
   ]
  },
  {
   "cell_type": "markdown",
   "id": "c0336532",
   "metadata": {},
   "source": [
    "Since there are so few datpoints between March and June of 2020, the averages are skewed and it is unfair to compare them to the same months in 2019. "
   ]
  },
  {
   "cell_type": "code",
   "execution_count": 8,
   "id": "3286cf69",
   "metadata": {},
   "outputs": [
    {
     "name": "stdout",
     "output_type": "stream",
     "text": [
      "+-----------+------------------+\n",
      "|intake_year|    avg(SWC_SQ_FT)|\n",
      "+-----------+------------------+\n",
      "|       2020| 259.3333333333333|\n",
      "|       2019|265.77358490566036|\n",
      "+-----------+------------------+\n",
      "\n"
     ]
    }
   ],
   "source": [
    "sqft_apps_by_year = cafe.groupBy(\"intake_year\").mean(\"SWC_SQ_FT\")\n",
    "sqft_apps_by_year.show()"
   ]
  },
  {
   "cell_type": "code",
   "execution_count": 9,
   "id": "5406f1f6",
   "metadata": {},
   "outputs": [
    {
     "name": "stdout",
     "output_type": "stream",
     "text": [
      "The percent change is: -2.423210 and is therefore negligible.\n"
     ]
    }
   ],
   "source": [
    "new = 259.3333333333333\n",
    "old = 265.77358490566036\n",
    "pct_change = ((new - old) / (old)) * 100\n",
    "print(\"The percent change is: %f and is therefore negligible.\" % pct_change)"
   ]
  },
  {
   "cell_type": "code",
   "execution_count": 10,
   "id": "960cc70d",
   "metadata": {},
   "outputs": [],
   "source": [
    "spark.stop()"
   ]
  }
 ],
 "metadata": {
  "kernelspec": {
   "display_name": "Python 3",
   "language": "python",
   "name": "python3"
  },
  "language_info": {
   "codemirror_mode": {
    "name": "ipython",
    "version": 3
   },
   "file_extension": ".py",
   "mimetype": "text/x-python",
   "name": "python",
   "nbconvert_exporter": "python",
   "pygments_lexer": "ipython3",
   "version": "3.9.0"
  }
 },
 "nbformat": 4,
 "nbformat_minor": 5
}
