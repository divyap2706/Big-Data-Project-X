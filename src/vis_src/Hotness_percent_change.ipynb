{
 "cells": [
  {
   "cell_type": "code",
   "execution_count": 3,
   "id": "85ef6cdf",
   "metadata": {},
   "outputs": [
    {
     "name": "stdout",
     "output_type": "stream",
     "text": [
      "Requirement already satisfied: altair in /Library/Frameworks/Python.framework/Versions/3.9/lib/python3.9/site-packages (4.1.0)\n",
      "Requirement already satisfied: entrypoints in /Library/Frameworks/Python.framework/Versions/3.9/lib/python3.9/site-packages (from altair) (0.3)\n",
      "Requirement already satisfied: numpy in /Library/Frameworks/Python.framework/Versions/3.9/lib/python3.9/site-packages (from altair) (1.19.5)\n",
      "Requirement already satisfied: jinja2 in /Library/Frameworks/Python.framework/Versions/3.9/lib/python3.9/site-packages (from altair) (2.11.3)\n",
      "Requirement already satisfied: toolz in /Library/Frameworks/Python.framework/Versions/3.9/lib/python3.9/site-packages (from altair) (0.11.1)\n",
      "Requirement already satisfied: jsonschema in /Library/Frameworks/Python.framework/Versions/3.9/lib/python3.9/site-packages (from altair) (3.2.0)\n",
      "Requirement already satisfied: pandas>=0.18 in /Library/Frameworks/Python.framework/Versions/3.9/lib/python3.9/site-packages (from altair) (1.2.3)\n",
      "Requirement already satisfied: pytz>=2017.3 in /Library/Frameworks/Python.framework/Versions/3.9/lib/python3.9/site-packages (from pandas>=0.18->altair) (2021.1)\n",
      "Requirement already satisfied: python-dateutil>=2.7.3 in /Library/Frameworks/Python.framework/Versions/3.9/lib/python3.9/site-packages (from pandas>=0.18->altair) (2.8.1)\n",
      "Requirement already satisfied: six>=1.5 in /Library/Frameworks/Python.framework/Versions/3.9/lib/python3.9/site-packages (from python-dateutil>=2.7.3->pandas>=0.18->altair) (1.15.0)\n",
      "Requirement already satisfied: MarkupSafe>=0.23 in /Library/Frameworks/Python.framework/Versions/3.9/lib/python3.9/site-packages (from jinja2->altair) (1.1.1)\n",
      "Requirement already satisfied: attrs>=17.4.0 in /Library/Frameworks/Python.framework/Versions/3.9/lib/python3.9/site-packages (from jsonschema->altair) (20.3.0)\n",
      "Requirement already satisfied: pyrsistent>=0.14.0 in /Library/Frameworks/Python.framework/Versions/3.9/lib/python3.9/site-packages (from jsonschema->altair) (0.17.3)\n",
      "Requirement already satisfied: setuptools in /Library/Frameworks/Python.framework/Versions/3.9/lib/python3.9/site-packages (from jsonschema->altair) (56.0.0)\n"
     ]
    }
   ],
   "source": [
    "# This file will generate the percent change of housing data between 2019 and 2020\n",
    "!pip install altair\n",
    "\n",
    "from __future__ import print_function\n",
    "import sys\n",
    "from pyspark import SparkContext\n",
    "from pyspark.sql import SparkSession\n",
    "from pyspark.sql.functions import weekofyear\n",
    "from pyspark.sql import functions as f\n",
    "from pyspark.sql.functions import concat_ws\n",
    "from pyspark.sql.types import StringType\n",
    "\n",
    "spark = SparkSession.builder.appName(\"Pct_Chg_Hotness-Max\").getOrCreate()"
   ]
  },
  {
   "cell_type": "code",
   "execution_count": 7,
   "id": "c8c0eff2",
   "metadata": {},
   "outputs": [],
   "source": [
    "hotness = spark.read.format('csv').options(header='true', inferschema='true').load(\"NYC_Hotness.csv\")\n",
    "#hotness.show()\n",
    "hotness = hotness.select(hotness[\"month_date_yyyymm\"].cast(StringType()),\"postal_code\",\"zip_name\",\"Area\",\"hotness_score\",\"supply_score\",\"demand_score\")"
   ]
  },
  {
   "cell_type": "code",
   "execution_count": 15,
   "id": "2e06ed0b",
   "metadata": {},
   "outputs": [
    {
     "name": "stdout",
     "output_type": "stream",
     "text": [
      "+-----------+----------------------+---------------------+---------------------+----+\n",
      "|postal_code|Hotness_Percent_Change|Supply_Percent_Change|Demand_Percent_Change|Area|\n",
      "+-----------+----------------------+---------------------+---------------------+----+\n",
      "|      11215|   -27.680285388607363|  -21.085053365724356|   -77.26286972636373| NYC|\n",
      "|      11367|     47.83644484186249|    70.71378354439058|   -82.44228445359391| NYC|\n",
      "|      10065|    -40.56519689546726|  -29.465044831464976|   -64.64910342875723| NYC|\n",
      "|      11209|    -50.26895229669943|   -48.37051654943243|     -63.510343767728| NYC|\n",
      "|      10458|     -93.3211453222425|   -89.76722060278051|   -97.53241285286921| NYC|\n",
      "|      11224|    -59.63215781001726|  -59.259326419186564|   -72.11513183518043| NYC|\n",
      "|      10038|    -49.21820770302426|  -45.388185045928154|    -82.2856912915771| NYC|\n",
      "|      11368|   -23.964475067905315|   -16.50641135437002|   -82.13538057252389| NYC|\n",
      "|      11217|    -46.79754526050918|   -46.34025513517951|   -56.00431875992623| NYC|\n",
      "|      11040|   -12.090382401865591|   -5.447619499716361|   -36.15136711914037| NYC|\n",
      "|      11040|   -12.090382401865591|   -5.447619499716361|   -36.15136711914037| NYC|\n",
      "|      11369|    -25.49814927582532|   -19.51689964847686|   -76.72867506492624| NYC|\n",
      "|      11370|    11.402189127899552|    2.042124148412371|   130.94411470905257| NYC|\n",
      "|      11418|   -38.270951231033415|  -33.784614333499306|   -57.16425207428607| NYC|\n",
      "|      10022|     -37.9324015245936|   -32.89977854821318|   -60.58620183513038| NYC|\n",
      "|      10306|   -30.063290520219866|   -20.56129786340736|   -50.97695881973081| NYC|\n",
      "|      10035|   -57.769971034739065|   -50.10819461225691|     -65.941487819093| NYC|\n",
      "|      11416|   -29.339796719919935|  -13.655004173561705|     -48.623450273274| NYC|\n",
      "|      10456|    -81.98177362573124|   -78.66416990924155|    -83.3769108121026| NYC|\n",
      "|      11109|   -25.143964263123337|    70.96138113900436|   -77.20279190474855| NYC|\n",
      "+-----------+----------------------+---------------------+---------------------+----+\n",
      "only showing top 20 rows\n",
      "\n"
     ]
    }
   ],
   "source": [
    "avg_hotness = hotness.withColumn(\"year\", f.substring(\"month_date_yyyymm\", 0, 4)).withColumn(\"month\", f.substring(\"month_date_yyyymm\", 5, 2))\n",
    "avg_hotness_19 = avg_hotness.where(avg_hotness[\"year\"] == '2019').drop(\"zip_name\",\"Area\").withColumnRenamed(\"hotness_score\",\"hotness_score_19\").withColumnRenamed(\"supply_score\",\"supply_score_19\").withColumnRenamed(\"demand_score\",\"demand_score_19\").withColumnRenamed(\"postal_code\",\"postal_code_19\")\n",
    "avg_hotness_20 = avg_hotness.where(avg_hotness[\"year\"] == '2020')\n",
    "#.groupBy('postal_code', 'month_date_yyyymm').mean('hotness_score','supply_score','demand_score').orderBy('month_date_yyyymm')\n",
    "avg_hotness_change = avg_hotness_20.join(avg_hotness_19, (avg_hotness_20.postal_code == avg_hotness_19.postal_code_19) & (avg_hotness_20.month == avg_hotness_19.month))\n",
    "#.groupBy('postal_code', 'month').\n",
    "avg_hotness_change = avg_hotness_change.withColumn(\"Hotness_Percent_Change\", ((avg_hotness_change.hotness_score - avg_hotness_change.hotness_score_19)/avg_hotness_change.hotness_score_19)*100)\n",
    "avg_hotness_change = avg_hotness_change.withColumn(\"Supply_Percent_Change\", ((avg_hotness_change.supply_score - avg_hotness_change.supply_score_19)/avg_hotness_change.supply_score_19)*100)\n",
    "avg_hotness_change = avg_hotness_change.withColumn(\"Demand_Percent_Change\", ((avg_hotness_change.demand_score - avg_hotness_change.demand_score_19)/avg_hotness_change.demand_score_19)*100)\n",
    "avg_hotness_change = avg_hotness_change.select(\"postal_code\",\"Hotness_Percent_Change\",\"Supply_Percent_Change\",\"Demand_Percent_Change\",\"Area\")\n",
    "avg_hotness_change.show()"
   ]
  },
  {
   "cell_type": "code",
   "execution_count": 16,
   "id": "ccdcc649",
   "metadata": {},
   "outputs": [],
   "source": [
    "# Generate data files to be used to plot spatially\n",
    "avg_hotness_change.coalesce(1).write.option(\"header\", True).csv(\"avg_hotness_change.csv\")"
   ]
  },
  {
   "cell_type": "code",
   "execution_count": 9,
   "id": "960cc70d",
   "metadata": {},
   "outputs": [],
   "source": [
    "spark.stop()"
   ]
  }
 ],
 "metadata": {
  "kernelspec": {
   "display_name": "Python 3",
   "language": "python",
   "name": "python3"
  },
  "language_info": {
   "codemirror_mode": {
    "name": "ipython",
    "version": 3
   },
   "file_extension": ".py",
   "mimetype": "text/x-python",
   "name": "python",
   "nbconvert_exporter": "python",
   "pygments_lexer": "ipython3",
   "version": "3.9.0"
  }
 },
 "nbformat": 4,
 "nbformat_minor": 5
}
