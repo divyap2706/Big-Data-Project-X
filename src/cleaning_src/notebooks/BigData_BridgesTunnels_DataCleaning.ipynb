{
  "nbformat": 4,
  "nbformat_minor": 0,
  "metadata": {
    "colab": {
      "name": "BigData_BridgesTunnels_DataCleaning.ipynb",
      "provenance": [],
      "collapsed_sections": [],
      "toc_visible": true,
      "mount_file_id": "1i1alQ0WKhEkYLp9TlkFww6H4G1JssH7C",
      "authorship_tag": "ABX9TyPU6TOHO66EatEa/HQ/6HFY",
      "include_colab_link": true
    },
    "kernelspec": {
      "name": "python3",
      "display_name": "Python 3"
    },
    "language_info": {
      "name": "python"
    }
  },
  "cells": [
    {
      "cell_type": "markdown",
      "metadata": {
        "id": "view-in-github",
        "colab_type": "text"
      },
      "source": [
        "<a href=\"https://colab.research.google.com/github/divyap2706/Big-Data-Project-X/blob/main/BigData_BridgesTunnels_DataCleaning.ipynb\" target=\"_parent\"><img src=\"https://colab.research.google.com/assets/colab-badge.svg\" alt=\"Open In Colab\"/></a>"
      ]
    },
    {
      "cell_type": "code",
      "metadata": {
        "colab": {
          "base_uri": "https://localhost:8080/"
        },
        "id": "fkm4PyADpPMO",
        "outputId": "1f80848e-7a56-4148-cc06-1cdb038ffca7"
      },
      "source": [
        "!pip install git+git://github.com/VIDA-NYU/openclean.git\n",
        "from openclean.pipeline import stream\n"
      ],
      "execution_count": 2,
      "outputs": [
        {
          "output_type": "stream",
          "text": [
            "Collecting git+git://github.com/VIDA-NYU/openclean.git\n",
            "  Cloning git://github.com/VIDA-NYU/openclean.git to /tmp/pip-req-build-yixfukui\n",
            "  Running command git clone -q git://github.com/VIDA-NYU/openclean.git /tmp/pip-req-build-yixfukui\n",
            "  Running command git submodule update --init --recursive -q\n",
            "Collecting openclean-core==0.3.0\n",
            "\u001b[?25l  Downloading https://files.pythonhosted.org/packages/a9/03/b5d97f3d6c407918f677535589749e9b898e696124fc273882f2016467cf/openclean_core-0.3.0-py3-none-any.whl (260kB)\n",
            "\u001b[K     |████████████████████████████████| 266kB 4.3MB/s \n",
            "\u001b[?25hRequirement already satisfied: pandas>=1.0.0 in /usr/local/lib/python3.7/dist-packages (from openclean-core==0.3.0->openclean==0.1.0) (1.1.5)\n",
            "Collecting histore==0.3.1\n",
            "\u001b[?25l  Downloading https://files.pythonhosted.org/packages/97/fa/af11ae933afe3996745ec93badb6d5e412d144677fd9be5ae763515b2f4b/histore-0.3.1-py3-none-any.whl (101kB)\n",
            "\u001b[K     |████████████████████████████████| 102kB 6.7MB/s \n",
            "\u001b[?25hCollecting flowserv-core>=0.8.0\n",
            "\u001b[?25l  Downloading https://files.pythonhosted.org/packages/23/46/9ec3386fb2109d26c066b24f228feb4295be1f61b0dc9a25ff28945d8a7e/flowserv_core-0.8.0-py3-none-any.whl (230kB)\n",
            "\u001b[K     |████████████████████████████████| 235kB 15.0MB/s \n",
            "\u001b[?25hRequirement already satisfied: scipy in /usr/local/lib/python3.7/dist-packages (from openclean-core==0.3.0->openclean==0.1.0) (1.4.1)\n",
            "Collecting jsonschema>=3.2.0\n",
            "\u001b[?25l  Downloading https://files.pythonhosted.org/packages/c5/8f/51e89ce52a085483359217bc72cdbf6e75ee595d5b1d4b5ade40c7e018b8/jsonschema-3.2.0-py2.py3-none-any.whl (56kB)\n",
            "\u001b[K     |████████████████████████████████| 61kB 4.8MB/s \n",
            "\u001b[?25hRequirement already satisfied: dill in /usr/local/lib/python3.7/dist-packages (from openclean-core==0.3.0->openclean==0.1.0) (0.3.3)\n",
            "Collecting jellyfish\n",
            "\u001b[?25l  Downloading https://files.pythonhosted.org/packages/30/a6/4d039bc827a102f62ce7a7910713e38fdfd7c7a40aa39c72fb14938a1473/jellyfish-0.8.2-cp37-cp37m-manylinux2014_x86_64.whl (90kB)\n",
            "\u001b[K     |████████████████████████████████| 92kB 6.0MB/s \n",
            "\u001b[?25hRequirement already satisfied: scikit-learn in /usr/local/lib/python3.7/dist-packages (from openclean-core==0.3.0->openclean==0.1.0) (0.22.2.post1)\n",
            "Collecting refdata>=0.2.0\n",
            "  Downloading https://files.pythonhosted.org/packages/1d/05/afe4da72b2e97c4cd667e09a6594efab41f35faa68a98c6afb8ecdbc6bcc/refdata-0.2.0-py3-none-any.whl\n",
            "Requirement already satisfied: python-dateutil in /usr/local/lib/python3.7/dist-packages (from openclean-core==0.3.0->openclean==0.1.0) (2.8.1)\n",
            "Requirement already satisfied: requests in /usr/local/lib/python3.7/dist-packages (from openclean-core==0.3.0->openclean==0.1.0) (2.23.0)\n",
            "Requirement already satisfied: appdirs>=1.4.4 in /usr/local/lib/python3.7/dist-packages (from openclean-core==0.3.0->openclean==0.1.0) (1.4.4)\n",
            "Requirement already satisfied: future in /usr/local/lib/python3.7/dist-packages (from openclean-core==0.3.0->openclean==0.1.0) (0.16.0)\n",
            "Requirement already satisfied: numpy>=1.15.4 in /usr/local/lib/python3.7/dist-packages (from pandas>=1.0.0->openclean-core==0.3.0->openclean==0.1.0) (1.19.5)\n",
            "Requirement already satisfied: pytz>=2017.2 in /usr/local/lib/python3.7/dist-packages (from pandas>=1.0.0->openclean-core==0.3.0->openclean==0.1.0) (2018.9)\n",
            "Requirement already satisfied: Click>=7.0 in /usr/local/lib/python3.7/dist-packages (from histore==0.3.1->openclean-core==0.3.0->openclean==0.1.0) (7.1.2)\n",
            "Requirement already satisfied: pyyaml in /usr/local/lib/python3.7/dist-packages (from histore==0.3.1->openclean-core==0.3.0->openclean==0.1.0) (3.13)\n",
            "Requirement already satisfied: SQLAlchemy>=1.3.18 in /usr/local/lib/python3.7/dist-packages (from histore==0.3.1->openclean-core==0.3.0->openclean==0.1.0) (1.3.23)\n",
            "Requirement already satisfied: psutil in /usr/local/lib/python3.7/dist-packages (from histore==0.3.1->openclean-core==0.3.0->openclean==0.1.0) (5.4.8)\n",
            "Collecting passlib\n",
            "\u001b[?25l  Downloading https://files.pythonhosted.org/packages/3b/a4/ab6b7589382ca3df236e03faa71deac88cae040af60c071a78d254a62172/passlib-1.7.4-py2.py3-none-any.whl (525kB)\n",
            "\u001b[K     |████████████████████████████████| 532kB 15.1MB/s \n",
            "\u001b[?25hCollecting gitpython\n",
            "\u001b[?25l  Downloading https://files.pythonhosted.org/packages/a6/99/98019716955ba243657daedd1de8f3a88ca1f5b75057c38e959db22fb87b/GitPython-3.1.14-py3-none-any.whl (159kB)\n",
            "\u001b[K     |████████████████████████████████| 163kB 20.3MB/s \n",
            "\u001b[?25hRequirement already satisfied: importlib-metadata; python_version < \"3.8\" in /usr/local/lib/python3.7/dist-packages (from jsonschema>=3.2.0->openclean-core==0.3.0->openclean==0.1.0) (3.7.2)\n",
            "Requirement already satisfied: attrs>=17.4.0 in /usr/local/lib/python3.7/dist-packages (from jsonschema>=3.2.0->openclean-core==0.3.0->openclean==0.1.0) (20.3.0)\n",
            "Requirement already satisfied: six>=1.11.0 in /usr/local/lib/python3.7/dist-packages (from jsonschema>=3.2.0->openclean-core==0.3.0->openclean==0.1.0) (1.15.0)\n",
            "Requirement already satisfied: setuptools in /usr/local/lib/python3.7/dist-packages (from jsonschema>=3.2.0->openclean-core==0.3.0->openclean==0.1.0) (54.1.2)\n",
            "Requirement already satisfied: pyrsistent>=0.14.0 in /usr/local/lib/python3.7/dist-packages (from jsonschema>=3.2.0->openclean-core==0.3.0->openclean==0.1.0) (0.17.3)\n",
            "Requirement already satisfied: joblib>=0.11 in /usr/local/lib/python3.7/dist-packages (from scikit-learn->openclean-core==0.3.0->openclean==0.1.0) (1.0.1)\n",
            "Requirement already satisfied: pooch>=1.3.0 in /usr/local/lib/python3.7/dist-packages (from refdata>=0.2.0->openclean-core==0.3.0->openclean==0.1.0) (1.3.0)\n",
            "Collecting datasize>=1.0.0\n",
            "\u001b[?25l  Downloading https://files.pythonhosted.org/packages/91/32/2e3a423003fb9b8fe703641ff0f33197caba606ae5cd6cc4ae380e892487/datasize-1.0.0.tar.gz (149kB)\n",
            "\u001b[K     |████████████████████████████████| 153kB 21.1MB/s \n",
            "\u001b[?25hCollecting tableprint\n",
            "  Downloading https://files.pythonhosted.org/packages/e4/9f/e61234cc4a1e2c7c8ade391828a66ef8e4cfef4bd586def359d03895d916/tableprint-0.9.1-py3-none-any.whl\n",
            "Requirement already satisfied: certifi>=2017.4.17 in /usr/local/lib/python3.7/dist-packages (from requests->openclean-core==0.3.0->openclean==0.1.0) (2020.12.5)\n",
            "Requirement already satisfied: urllib3!=1.25.0,!=1.25.1,<1.26,>=1.21.1 in /usr/local/lib/python3.7/dist-packages (from requests->openclean-core==0.3.0->openclean==0.1.0) (1.24.3)\n",
            "Requirement already satisfied: chardet<4,>=3.0.2 in /usr/local/lib/python3.7/dist-packages (from requests->openclean-core==0.3.0->openclean==0.1.0) (3.0.4)\n",
            "Requirement already satisfied: idna<3,>=2.5 in /usr/local/lib/python3.7/dist-packages (from requests->openclean-core==0.3.0->openclean==0.1.0) (2.10)\n",
            "Collecting gitdb<5,>=4.0.1\n",
            "\u001b[?25l  Downloading https://files.pythonhosted.org/packages/ea/e8/f414d1a4f0bbc668ed441f74f44c116d9816833a48bf81d22b697090dba8/gitdb-4.0.7-py3-none-any.whl (63kB)\n",
            "\u001b[K     |████████████████████████████████| 71kB 5.9MB/s \n",
            "\u001b[?25hRequirement already satisfied: typing-extensions>=3.6.4; python_version < \"3.8\" in /usr/local/lib/python3.7/dist-packages (from importlib-metadata; python_version < \"3.8\"->jsonschema>=3.2.0->openclean-core==0.3.0->openclean==0.1.0) (3.7.4.3)\n",
            "Requirement already satisfied: zipp>=0.5 in /usr/local/lib/python3.7/dist-packages (from importlib-metadata; python_version < \"3.8\"->jsonschema>=3.2.0->openclean-core==0.3.0->openclean==0.1.0) (3.4.1)\n",
            "Requirement already satisfied: packaging in /usr/local/lib/python3.7/dist-packages (from pooch>=1.3.0->refdata>=0.2.0->openclean-core==0.3.0->openclean==0.1.0) (20.9)\n",
            "Requirement already satisfied: wcwidth in /usr/local/lib/python3.7/dist-packages (from tableprint->refdata>=0.2.0->openclean-core==0.3.0->openclean==0.1.0) (0.2.5)\n",
            "Collecting smmap<5,>=3.0.1\n",
            "  Downloading https://files.pythonhosted.org/packages/68/ee/d540eb5e5996eb81c26ceffac6ee49041d473bc5125f2aa995cf51ec1cf1/smmap-4.0.0-py2.py3-none-any.whl\n",
            "Requirement already satisfied: pyparsing>=2.0.2 in /usr/local/lib/python3.7/dist-packages (from packaging->pooch>=1.3.0->refdata>=0.2.0->openclean-core==0.3.0->openclean==0.1.0) (2.4.7)\n",
            "Building wheels for collected packages: openclean, datasize\n",
            "  Building wheel for openclean (setup.py) ... \u001b[?25l\u001b[?25hdone\n",
            "  Created wheel for openclean: filename=openclean-0.1.0-cp37-none-any.whl size=4897 sha256=e80b41bdd22acdafeddc978489b06eae0dfd6767e2206bffeee5b8ad352b5153\n",
            "  Stored in directory: /tmp/pip-ephem-wheel-cache-y56zuuq8/wheels/5f/de/0d/3f94f0323cd128a09f597f9c646d4d57e62845deb0136fb223\n",
            "  Building wheel for datasize (setup.py) ... \u001b[?25l\u001b[?25hdone\n",
            "  Created wheel for datasize: filename=datasize-1.0.0-py2.py3-none-any.whl size=155029 sha256=87754b06ddca6d8e79b35e41f3e48e3b359295a8219dfcf7e0ac9246a6ee5949\n",
            "  Stored in directory: /root/.cache/pip/wheels/b9/a1/a3/97bc5bd191a248dc72fe842abb780935d79fdf9aeee265f1e8\n",
            "Successfully built openclean datasize\n",
            "\u001b[31mERROR: nbclient 0.5.3 has requirement jupyter-client>=6.1.5, but you'll have jupyter-client 5.3.5 which is incompatible.\u001b[0m\n",
            "\u001b[31mERROR: flowserv-core 0.8.0 has requirement pyyaml>=5.1, but you'll have pyyaml 3.13 which is incompatible.\u001b[0m\n",
            "\u001b[31mERROR: refdata 0.2.0 has requirement pyyaml>=5.1, but you'll have pyyaml 3.13 which is incompatible.\u001b[0m\n",
            "Installing collected packages: jsonschema, histore, passlib, smmap, gitdb, gitpython, flowserv-core, jellyfish, datasize, tableprint, refdata, openclean-core, openclean\n",
            "  Found existing installation: jsonschema 2.6.0\n",
            "    Uninstalling jsonschema-2.6.0:\n",
            "      Successfully uninstalled jsonschema-2.6.0\n",
            "Successfully installed datasize-1.0.0 flowserv-core-0.8.0 gitdb-4.0.7 gitpython-3.1.14 histore-0.3.1 jellyfish-0.8.2 jsonschema-3.2.0 openclean-0.1.0 openclean-core-0.3.0 passlib-1.7.4 refdata-0.2.0 smmap-4.0.0 tableprint-0.9.1\n"
          ],
          "name": "stdout"
        }
      ]
    },
    {
      "cell_type": "code",
      "metadata": {
        "colab": {
          "base_uri": "https://localhost:8080/",
          "height": 359
        },
        "id": "tXyzXXtHppGm",
        "outputId": "ca74d58d-d2eb-4076-d375-75567de08aac"
      },
      "source": [
        "# Import the data and then use OpenClean's stream feature so that we do not need\n",
        "# to put the entire file into memory\n",
        "datafile = \"/content/drive/MyDrive/Big Data/Big Data Project/Data Max is Working on/Hourly_Traffic_on_Metropolitan_Transportation_Authority__MTA__Bridges_and_Tunnels__Beginning_2010.csv\"\n",
        "ds = stream(datafile)\n",
        "\n",
        "# Print the first ten rows of the dataset to get a first\n",
        "# idea of the content.\n",
        "ds.head()"
      ],
      "execution_count": 3,
      "outputs": [
        {
          "output_type": "execute_result",
          "data": {
            "text/html": [
              "<div>\n",
              "<style scoped>\n",
              "    .dataframe tbody tr th:only-of-type {\n",
              "        vertical-align: middle;\n",
              "    }\n",
              "\n",
              "    .dataframe tbody tr th {\n",
              "        vertical-align: top;\n",
              "    }\n",
              "\n",
              "    .dataframe thead th {\n",
              "        text-align: right;\n",
              "    }\n",
              "</style>\n",
              "<table border=\"1\" class=\"dataframe\">\n",
              "  <thead>\n",
              "    <tr style=\"text-align: right;\">\n",
              "      <th></th>\n",
              "      <th>Plaza ID</th>\n",
              "      <th>Date</th>\n",
              "      <th>Hour</th>\n",
              "      <th>Direction</th>\n",
              "      <th># Vehicles - E-ZPass</th>\n",
              "      <th># Vehicles - VToll</th>\n",
              "    </tr>\n",
              "  </thead>\n",
              "  <tbody>\n",
              "    <tr>\n",
              "      <th>0</th>\n",
              "      <td>3</td>\n",
              "      <td>02/08/2017</td>\n",
              "      <td>6</td>\n",
              "      <td>O</td>\n",
              "      <td>3524</td>\n",
              "      <td>446</td>\n",
              "    </tr>\n",
              "    <tr>\n",
              "      <th>1</th>\n",
              "      <td>1</td>\n",
              "      <td>02/08/2017</td>\n",
              "      <td>17</td>\n",
              "      <td>O</td>\n",
              "      <td>2019</td>\n",
              "      <td>400</td>\n",
              "    </tr>\n",
              "    <tr>\n",
              "      <th>2</th>\n",
              "      <td>11</td>\n",
              "      <td>02/08/2017</td>\n",
              "      <td>15</td>\n",
              "      <td>I</td>\n",
              "      <td>5999</td>\n",
              "      <td>498</td>\n",
              "    </tr>\n",
              "    <tr>\n",
              "      <th>3</th>\n",
              "      <td>1</td>\n",
              "      <td>02/06/2017</td>\n",
              "      <td>3</td>\n",
              "      <td>O</td>\n",
              "      <td>293</td>\n",
              "      <td>94</td>\n",
              "    </tr>\n",
              "    <tr>\n",
              "      <th>4</th>\n",
              "      <td>1</td>\n",
              "      <td>02/06/2017</td>\n",
              "      <td>14</td>\n",
              "      <td>O</td>\n",
              "      <td>1881</td>\n",
              "      <td>391</td>\n",
              "    </tr>\n",
              "    <tr>\n",
              "      <th>5</th>\n",
              "      <td>9</td>\n",
              "      <td>02/09/2017</td>\n",
              "      <td>10</td>\n",
              "      <td>O</td>\n",
              "      <td>309</td>\n",
              "      <td>44</td>\n",
              "    </tr>\n",
              "    <tr>\n",
              "      <th>6</th>\n",
              "      <td>2</td>\n",
              "      <td>02/11/2017</td>\n",
              "      <td>5</td>\n",
              "      <td>I</td>\n",
              "      <td>455</td>\n",
              "      <td>85</td>\n",
              "    </tr>\n",
              "    <tr>\n",
              "      <th>7</th>\n",
              "      <td>1</td>\n",
              "      <td>02/09/2017</td>\n",
              "      <td>8</td>\n",
              "      <td>O</td>\n",
              "      <td>541</td>\n",
              "      <td>106</td>\n",
              "    </tr>\n",
              "    <tr>\n",
              "      <th>8</th>\n",
              "      <td>9</td>\n",
              "      <td>02/06/2017</td>\n",
              "      <td>22</td>\n",
              "      <td>O</td>\n",
              "      <td>1120</td>\n",
              "      <td>242</td>\n",
              "    </tr>\n",
              "    <tr>\n",
              "      <th>9</th>\n",
              "      <td>5</td>\n",
              "      <td>02/07/2017</td>\n",
              "      <td>18</td>\n",
              "      <td>O</td>\n",
              "      <td>358</td>\n",
              "      <td>48</td>\n",
              "    </tr>\n",
              "  </tbody>\n",
              "</table>\n",
              "</div>"
            ],
            "text/plain": [
              "  Plaza ID        Date Hour Direction # Vehicles - E-ZPass # Vehicles - VToll\n",
              "0        3  02/08/2017    6         O                 3524                446\n",
              "1        1  02/08/2017   17         O                 2019                400\n",
              "2       11  02/08/2017   15         I                 5999                498\n",
              "3        1  02/06/2017    3         O                  293                 94\n",
              "4        1  02/06/2017   14         O                 1881                391\n",
              "5        9  02/09/2017   10         O                  309                 44\n",
              "6        2  02/11/2017    5         I                  455                 85\n",
              "7        1  02/09/2017    8         O                  541                106\n",
              "8        9  02/06/2017   22         O                 1120                242\n",
              "9        5  02/07/2017   18         O                  358                 48"
            ]
          },
          "metadata": {
            "tags": []
          },
          "execution_count": 3
        }
      ]
    },
    {
      "cell_type": "code",
      "metadata": {
        "id": "HdPAK_BArmEo"
      },
      "source": [
        "# Profile rows using the default data profiler.\n",
        "\n",
        "from openclean.profiling.column import DefaultColumnProfiler\n",
        "\n",
        "profiles = ds.profile(default_profiler=DefaultColumnProfiler)"
      ],
      "execution_count": 4,
      "outputs": []
    },
    {
      "cell_type": "code",
      "metadata": {
        "colab": {
          "base_uri": "https://localhost:8080/",
          "height": 235
        },
        "id": "UA0GC3CVsTlc",
        "outputId": "4babc3a2-6679-46df-d8bd-4afa16077ef9"
      },
      "source": [
        "# Print overview of profiling results.\n",
        "\n",
        "profiles.stats()"
      ],
      "execution_count": 5,
      "outputs": [
        {
          "output_type": "execute_result",
          "data": {
            "text/html": [
              "<div>\n",
              "<style scoped>\n",
              "    .dataframe tbody tr th:only-of-type {\n",
              "        vertical-align: middle;\n",
              "    }\n",
              "\n",
              "    .dataframe tbody tr th {\n",
              "        vertical-align: top;\n",
              "    }\n",
              "\n",
              "    .dataframe thead th {\n",
              "        text-align: right;\n",
              "    }\n",
              "</style>\n",
              "<table border=\"1\" class=\"dataframe\">\n",
              "  <thead>\n",
              "    <tr style=\"text-align: right;\">\n",
              "      <th></th>\n",
              "      <th>total</th>\n",
              "      <th>empty</th>\n",
              "      <th>distinct</th>\n",
              "      <th>uniqueness</th>\n",
              "      <th>entropy</th>\n",
              "    </tr>\n",
              "  </thead>\n",
              "  <tbody>\n",
              "    <tr>\n",
              "      <th>Plaza ID</th>\n",
              "      <td>1728845</td>\n",
              "      <td>0</td>\n",
              "      <td>20</td>\n",
              "      <td>0.000012</td>\n",
              "      <td>4.164765</td>\n",
              "    </tr>\n",
              "    <tr>\n",
              "      <th>Date</th>\n",
              "      <td>1728845</td>\n",
              "      <td>0</td>\n",
              "      <td>4024</td>\n",
              "      <td>0.002328</td>\n",
              "      <td>11.955525</td>\n",
              "    </tr>\n",
              "    <tr>\n",
              "      <th>Hour</th>\n",
              "      <td>1728845</td>\n",
              "      <td>0</td>\n",
              "      <td>24</td>\n",
              "      <td>0.000014</td>\n",
              "      <td>4.584962</td>\n",
              "    </tr>\n",
              "    <tr>\n",
              "      <th>Direction</th>\n",
              "      <td>1728845</td>\n",
              "      <td>0</td>\n",
              "      <td>2</td>\n",
              "      <td>0.000001</td>\n",
              "      <td>0.999681</td>\n",
              "    </tr>\n",
              "    <tr>\n",
              "      <th># Vehicles - E-ZPass</th>\n",
              "      <td>1728845</td>\n",
              "      <td>0</td>\n",
              "      <td>8997</td>\n",
              "      <td>0.005204</td>\n",
              "      <td>11.804486</td>\n",
              "    </tr>\n",
              "    <tr>\n",
              "      <th># Vehicles - VToll</th>\n",
              "      <td>1728845</td>\n",
              "      <td>0</td>\n",
              "      <td>1770</td>\n",
              "      <td>0.001024</td>\n",
              "      <td>9.486544</td>\n",
              "    </tr>\n",
              "  </tbody>\n",
              "</table>\n",
              "</div>"
            ],
            "text/plain": [
              "                        total  empty  distinct  uniqueness    entropy\n",
              "Plaza ID              1728845      0        20    0.000012   4.164765\n",
              "Date                  1728845      0      4024    0.002328  11.955525\n",
              "Hour                  1728845      0        24    0.000014   4.584962\n",
              "Direction             1728845      0         2    0.000001   0.999681\n",
              "# Vehicles - E-ZPass  1728845      0      8997    0.005204  11.804486\n",
              "# Vehicles - VToll    1728845      0      1770    0.001024   9.486544"
            ]
          },
          "metadata": {
            "tags": []
          },
          "execution_count": 5
        }
      ]
    },
    {
      "cell_type": "code",
      "metadata": {
        "colab": {
          "base_uri": "https://localhost:8080/"
        },
        "id": "PBkYOI7xxElj",
        "outputId": "aa55d1fe-7aa0-41c6-ae6e-6e2ecb08a5fe"
      },
      "source": [
        "#Print the distinct values of a column\n",
        "print(ds.distinct('Plaza ID'))\n",
        "print(ds.distinct('Hour'))\n",
        "print(ds.distinct('Direction'))"
      ],
      "execution_count": 6,
      "outputs": [
        {
          "output_type": "stream",
          "text": [
            "Counter({'3': 135552, '9': 135552, '1': 130896, '2': 130896, '5': 128688, '6': 128688, '7': 123072, '8': 122784, '4': 120624, '11': 66000, '28': 59221, '27': 59221, '24': 59202, '26': 59176, '25': 58941, '29': 58210, '23': 58092, '30': 32249, '21': 32207, '22': 29574})\n",
            "Counter({'15': 72055, '14': 72055, '8': 72055, '13': 72055, '12': 72055, '11': 72055, '6': 72054, '10': 72054, '7': 72054, '17': 72053, '5': 72053, '16': 72053, '9': 72053, '4': 72052, '18': 72050, '19': 72047, '20': 72046, '22': 72045, '21': 72044, '23': 72042, '0': 71999, '3': 71976, '1': 71954, '2': 71886})\n",
            "Counter({'I': 882586, 'O': 846259})\n"
          ],
          "name": "stdout"
        }
      ]
    },
    {
      "cell_type": "code",
      "metadata": {
        "colab": {
          "base_uri": "https://localhost:8080/"
        },
        "id": "dv83wvIg2dbB",
        "outputId": "83e7f7be-649e-4a07-e75d-4825ecd2f7ea"
      },
      "source": [
        "# look at all the datatypes in the dataset\n",
        "print(profiles.types())"
      ],
      "execution_count": 7,
      "outputs": [
        {
          "output_type": "stream",
          "text": [
            "                      date   int  str\n",
            "Plaza ID                 0    20    0\n",
            "Date                  4024     0    0\n",
            "Hour                     0    24    0\n",
            "Direction                0     0    2\n",
            "# Vehicles - E-ZPass     0  8997    0\n",
            "# Vehicles - VToll       0  1770    0\n"
          ],
          "name": "stdout"
        }
      ]
    },
    {
      "cell_type": "code",
      "metadata": {
        "colab": {
          "base_uri": "https://localhost:8080/"
        },
        "id": "1d0VIuu42gZp",
        "outputId": "7d6a4d60-80df-434f-f17d-e6f3337f50c3"
      },
      "source": [
        "# query the minimum and maximum in the columns column\n",
        "print(profiles.minmax('Plaza ID'))\n",
        "print(profiles.minmax('Date'))\n",
        "print(profiles.minmax('Hour'))\n",
        "print(profiles.minmax('# Vehicles - E-ZPass'))\n",
        "print(profiles.minmax('# Vehicles - VToll'))"
      ],
      "execution_count": 8,
      "outputs": [
        {
          "output_type": "stream",
          "text": [
            "     min  max\n",
            "int    1   30\n",
            "            min        max\n",
            "date 2010-01-01 2021-03-20\n",
            "     min  max\n",
            "int    0   23\n",
            "     min    max\n",
            "int    0  16854\n",
            "     min   max\n",
            "int    0  2567\n"
          ],
          "name": "stdout"
        }
      ]
    },
    {
      "cell_type": "code",
      "metadata": {
        "colab": {
          "base_uri": "https://localhost:8080/"
        },
        "id": "2oLVJ_uk277O",
        "outputId": "e672e964-a6ed-4baa-ddcd-a803801ba2a8"
      },
      "source": [
        "# Print the number of rows in the full dataset\n",
        "print('\\n{:,} rows.'.format(ds.count()))"
      ],
      "execution_count": 9,
      "outputs": [
        {
          "output_type": "stream",
          "text": [
            "\n",
            "1,728,845 rows.\n"
          ],
          "name": "stdout"
        }
      ]
    },
    {
      "cell_type": "code",
      "metadata": {
        "colab": {
          "base_uri": "https://localhost:8080/",
          "height": 359
        },
        "id": "9E-Rf5wPR4QE",
        "outputId": "9f80006f-f33c-4d2b-a702-7fd9266538a1"
      },
      "source": [
        "# Filter out plaza ID # 22 and 11 because they only have data for one direction\n",
        "from openclean.operator.transform.filter import filter\n",
        "from openclean.function.eval.base import Col\n",
        "# Verrazano-Narrows Bridge (VNB)\n",
        "filterOut_Verazano = ds.filter(predicate=Col('Plaza ID')!='11')\n",
        "# Filter out Robert F. Kennedy Bridge Manhattan Plaza (TBM)\n",
        "filterOut = filterOut_Verazano.filter(predicate=Col('Plaza ID')!='22')\n",
        "filterOut.head()"
      ],
      "execution_count": 16,
      "outputs": [
        {
          "output_type": "execute_result",
          "data": {
            "text/html": [
              "<div>\n",
              "<style scoped>\n",
              "    .dataframe tbody tr th:only-of-type {\n",
              "        vertical-align: middle;\n",
              "    }\n",
              "\n",
              "    .dataframe tbody tr th {\n",
              "        vertical-align: top;\n",
              "    }\n",
              "\n",
              "    .dataframe thead th {\n",
              "        text-align: right;\n",
              "    }\n",
              "</style>\n",
              "<table border=\"1\" class=\"dataframe\">\n",
              "  <thead>\n",
              "    <tr style=\"text-align: right;\">\n",
              "      <th></th>\n",
              "      <th>Plaza ID</th>\n",
              "      <th>Date</th>\n",
              "      <th>Hour</th>\n",
              "      <th>Direction</th>\n",
              "      <th># Vehicles - E-ZPass</th>\n",
              "      <th># Vehicles - VToll</th>\n",
              "    </tr>\n",
              "  </thead>\n",
              "  <tbody>\n",
              "    <tr>\n",
              "      <th>0</th>\n",
              "      <td>3</td>\n",
              "      <td>02/08/2017</td>\n",
              "      <td>6</td>\n",
              "      <td>O</td>\n",
              "      <td>3524</td>\n",
              "      <td>446</td>\n",
              "    </tr>\n",
              "    <tr>\n",
              "      <th>1</th>\n",
              "      <td>1</td>\n",
              "      <td>02/08/2017</td>\n",
              "      <td>17</td>\n",
              "      <td>O</td>\n",
              "      <td>2019</td>\n",
              "      <td>400</td>\n",
              "    </tr>\n",
              "    <tr>\n",
              "      <th>3</th>\n",
              "      <td>1</td>\n",
              "      <td>02/06/2017</td>\n",
              "      <td>3</td>\n",
              "      <td>O</td>\n",
              "      <td>293</td>\n",
              "      <td>94</td>\n",
              "    </tr>\n",
              "    <tr>\n",
              "      <th>4</th>\n",
              "      <td>1</td>\n",
              "      <td>02/06/2017</td>\n",
              "      <td>14</td>\n",
              "      <td>O</td>\n",
              "      <td>1881</td>\n",
              "      <td>391</td>\n",
              "    </tr>\n",
              "    <tr>\n",
              "      <th>5</th>\n",
              "      <td>9</td>\n",
              "      <td>02/09/2017</td>\n",
              "      <td>10</td>\n",
              "      <td>O</td>\n",
              "      <td>309</td>\n",
              "      <td>44</td>\n",
              "    </tr>\n",
              "    <tr>\n",
              "      <th>6</th>\n",
              "      <td>2</td>\n",
              "      <td>02/11/2017</td>\n",
              "      <td>5</td>\n",
              "      <td>I</td>\n",
              "      <td>455</td>\n",
              "      <td>85</td>\n",
              "    </tr>\n",
              "    <tr>\n",
              "      <th>7</th>\n",
              "      <td>1</td>\n",
              "      <td>02/09/2017</td>\n",
              "      <td>8</td>\n",
              "      <td>O</td>\n",
              "      <td>541</td>\n",
              "      <td>106</td>\n",
              "    </tr>\n",
              "    <tr>\n",
              "      <th>8</th>\n",
              "      <td>9</td>\n",
              "      <td>02/06/2017</td>\n",
              "      <td>22</td>\n",
              "      <td>O</td>\n",
              "      <td>1120</td>\n",
              "      <td>242</td>\n",
              "    </tr>\n",
              "    <tr>\n",
              "      <th>9</th>\n",
              "      <td>5</td>\n",
              "      <td>02/07/2017</td>\n",
              "      <td>18</td>\n",
              "      <td>O</td>\n",
              "      <td>358</td>\n",
              "      <td>48</td>\n",
              "    </tr>\n",
              "    <tr>\n",
              "      <th>11</th>\n",
              "      <td>1</td>\n",
              "      <td>02/10/2017</td>\n",
              "      <td>14</td>\n",
              "      <td>O</td>\n",
              "      <td>1699</td>\n",
              "      <td>416</td>\n",
              "    </tr>\n",
              "  </tbody>\n",
              "</table>\n",
              "</div>"
            ],
            "text/plain": [
              "   Plaza ID        Date Hour Direction # Vehicles - E-ZPass # Vehicles - VToll\n",
              "0         3  02/08/2017    6         O                 3524                446\n",
              "1         1  02/08/2017   17         O                 2019                400\n",
              "3         1  02/06/2017    3         O                  293                 94\n",
              "4         1  02/06/2017   14         O                 1881                391\n",
              "5         9  02/09/2017   10         O                  309                 44\n",
              "6         2  02/11/2017    5         I                  455                 85\n",
              "7         1  02/09/2017    8         O                  541                106\n",
              "8         9  02/06/2017   22         O                 1120                242\n",
              "9         5  02/07/2017   18         O                  358                 48\n",
              "11        1  02/10/2017   14         O                 1699                416"
            ]
          },
          "metadata": {
            "tags": []
          },
          "execution_count": 16
        }
      ]
    },
    {
      "cell_type": "markdown",
      "metadata": {
        "id": "5LFffJtt0Zr3"
      },
      "source": [
        "There are only 10 actual plazas, and the Plaza IDs changed in 2017 from 1-11, to 21-30. We need to map the correpsonding IDs from each time period. "
      ]
    },
    {
      "cell_type": "code",
      "metadata": {
        "colab": {
          "base_uri": "https://localhost:8080/"
        },
        "id": "bFRVlrbn0QI6",
        "outputId": "3e1578b8-6c86-4763-9e13-85f132fda00b"
      },
      "source": [
        "# Define a function to fix plaza IDs\n",
        "def plaza_transform(plaza):\n",
        "  if plaza == '21':\n",
        "    return '1'\n",
        "  elif plaza == '22':\n",
        "    return '2'\n",
        "  elif plaza == '23':\n",
        "    return '3'\n",
        "  elif plaza == '24':\n",
        "    return '4'\n",
        "  elif plaza == '25':\n",
        "    return '5'\n",
        "  elif plaza == '26':\n",
        "    return '6'\n",
        "  elif plaza == '27':\n",
        "    return '7'\n",
        "  #The Hugh L. Carey Tunnel is the official name for the Brooklyn Battery Tunnel\n",
        "  elif plaza == '28':\n",
        "    return '8'\n",
        "  elif plaza == '29':\n",
        "    return '9'\n",
        "  elif plaza == '30':\n",
        "    return '11'\n",
        "  else:\n",
        "    return plaza\n",
        "\n",
        "fixedPlazas = filterOut.update('Plaza ID', plaza_transform)\n",
        "print(fixedPlazas.distinct('Plaza ID'))"
      ],
      "execution_count": 18,
      "outputs": [
        {
          "output_type": "stream",
          "text": [
            "Counter({'9': 193762, '3': 193644, '6': 187864, '5': 187629, '7': 182293, '8': 182005, '4': 179826, '1': 163103, '2': 130896, '11': 32249})\n"
          ],
          "name": "stdout"
        }
      ]
    },
    {
      "cell_type": "code",
      "metadata": {
        "id": "b2zD7taorynV"
      },
      "source": [
        "# Export data to file\n",
        "# Note: Change the file path as needed\n",
        "import pandas as pd\n",
        "\n",
        "output = fixedPlazas.to_df()\n",
        "output.to_csv(r'/content/drive/MyDrive/Big Data/Big Data Project/Data Max is Working on/New_Bridges_Tunnels.csv', index = False, header=True)\n",
        "\n"
      ],
      "execution_count": 19,
      "outputs": []
    }
  ]
}